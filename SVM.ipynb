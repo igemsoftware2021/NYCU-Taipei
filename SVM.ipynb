{
  "nbformat": 4,
  "nbformat_minor": 0,
  "metadata": {
    "accelerator": "GPU",
    "colab": {
      "name": "SVM.ipynb",
      "provenance": [],
      "collapsed_sections": [
        "Q16arr249rRZ",
        "Jibitp1YrS2r",
        "RoMswBMj96LK",
        "I6BmKxX0-Gw4",
        "IxpIp9Pt_DRM",
        "-8Xk0k83_H-K",
        "iBoV-ARX_Q0j",
        "WLoCjmmm_T9Q",
        "uiqlg3XTq-vA"
      ]
    },
    "interpreter": {
      "hash": "f27f2496960f23253b89e7b8bb5fad291f16c34ca6ee598496faa9251168aae6"
    },
    "kernelspec": {
      "display_name": "Python 3.8.3 64-bit ('base': conda)",
      "name": "python3"
    },
    "language_info": {
      "codemirror_mode": {
        "name": "ipython",
        "version": 3
      },
      "file_extension": ".py",
      "mimetype": "text/x-python",
      "name": "python",
      "nbconvert_exporter": "python",
      "pygments_lexer": "ipython3",
      "version": "3.8.3"
    }
  },
  "cells": [
    {
      "cell_type": "markdown",
      "metadata": {
        "id": "Q16arr249rRZ"
      },
      "source": [
        "# Cloning training data "
      ]
    },
    {
      "cell_type": "code",
      "metadata": {
        "colab": {
          "base_uri": "https://localhost:8080/"
        },
        "id": "rXVF1HR_TKap",
        "outputId": "097416ed-9c5c-4598-9e42-dc89ec372f3f"
      },
      "source": [
        "!git clone https://github.com/mmi366127/iGem.git"
      ],
      "execution_count": null,
      "outputs": [
        {
          "output_type": "stream",
          "name": "stdout",
          "text": [
            "fatal: destination path 'iGem' already exists and is not an empty directory.\n"
          ]
        }
      ]
    },
    {
      "cell_type": "markdown",
      "metadata": {
        "id": "Jibitp1YrS2r"
      },
      "source": [
        "# Installing Software "
      ]
    },
    {
      "cell_type": "code",
      "metadata": {
        "id": "hl5ad7w8rXfY"
      },
      "source": [
        "!wget https://developer.nvidia.com/compute/cuda/9.0/Prod/local_installers/cuda-repo-ubuntu1704-9-0-local_9.0.176-1_amd64-deb\n",
        "!dpkg -i cuda-repo-ubuntu1704-9-0-local_9.0.176-1_amd64-deb\n",
        "!apt-key add /var/cuda-repo-9-0-local/7fa2af80.pub\n",
        "!apt-get update\n",
        "!sudo apt-get install cuda-9.0        \n",
        "!pip install thundersvm"
      ],
      "execution_count": null,
      "outputs": []
    },
    {
      "cell_type": "markdown",
      "metadata": {
        "id": "RoMswBMj96LK"
      },
      "source": [
        "# Reading Data set"
      ]
    },
    {
      "cell_type": "code",
      "metadata": {
        "colab": {
          "base_uri": "https://localhost:8080/"
        },
        "id": "4P46xLO1YYWC",
        "outputId": "df333c60-da60-4b0f-9677-02b29b13b6b5"
      },
      "source": [
        "import pandas, os, re\n",
        "\n",
        "def valid_amino_acid(amino_acid) :\n",
        "    if len(amino_acid) != 1 : return False\n",
        "    return amino_acid[0].isalpha()\n",
        "\n",
        "\n",
        "def valid_CleavageSite(Site) :\n",
        "    for amino_acid in Site :\n",
        "        if not valid_amino_acid(amino_acid) :\n",
        "            return False\n",
        "    return True\n",
        "\n",
        "Sites, Names_Site = [], []\n",
        "\n",
        "for file in os.listdir('/content/iGem/CleavageSite') :\n",
        "\n",
        "    df = pandas.read_csv(os.path.join('/content/iGem/CleavageSite', file))\n",
        "    \n",
        "    rows = [row for row in df.iloc[:, 1:9].values if valid_CleavageSite(row)]\n",
        "    name = [file[:7] for i in range(len(rows))]\n",
        "\n",
        "    Sites = Sites + rows\n",
        "    Names_Site = Names_Site + name\n",
        "\n",
        "print('Total Sites: %d' % (len(Sites)))"
      ],
      "execution_count": null,
      "outputs": [
        {
          "output_type": "stream",
          "name": "stdout",
          "text": [
            "Total Sites: 743\n"
          ]
        }
      ]
    },
    {
      "cell_type": "code",
      "metadata": {
        "id": "s-Zaovjt9nii"
      },
      "source": [
        "import numpy as np\n",
        "\n",
        "AA_index = pandas.read_csv('/content/iGem/AAidx.csv')\n",
        "AA_index = AA_index.dropna()\n",
        "\n",
        "AA_index.head()\n",
        "            \n",
        "def transform(Site) :\n",
        "    ret = []\n",
        "    for amino_acid in Site :\n",
        "        if amino_acid not in AA_index.columns :\n",
        "            print('Unknown Amino Acid!')\n",
        "        ret = np.concatenate((ret, AA_index[amino_acid].iloc[:].values), axis = 0)\n",
        "    \n",
        "    return ret\n",
        "\n",
        "AA_Sites = np.array([transform(row) for row in Sites])\n"
      ],
      "execution_count": null,
      "outputs": []
    },
    {
      "cell_type": "code",
      "metadata": {
        "colab": {
          "base_uri": "https://localhost:8080/"
        },
        "id": "7jirKFHF9nil",
        "outputId": "6f07ccd3-6f09-42e1-a7a8-a909805ea2d4"
      },
      "source": [
        "\n",
        "Sequence, Names_Seq = [], []\n",
        "st = set()\n",
        "\n",
        "AS_sz = 4\n",
        "\n",
        "def valid_AS(as_list, pep):\n",
        "    ret_list = []\n",
        "    for AS in as_list:\n",
        "        AS = AS.strip()\n",
        "        if len(ret_list) >= AS_sz:\n",
        "            break\n",
        "        if AS == 'missing' or len(AS) <= 1:\n",
        "            continue\n",
        "        if AS[0] in 'HDS':\n",
        "            ret_list.append(AS)\n",
        "\n",
        "    for AS in as_list:\n",
        "        AS = AS.strip()\n",
        "        if len(ret_list) >= AS_sz:\n",
        "            break\n",
        "        if AS == 'missing' or len(AS) <= 1:\n",
        "            continue\n",
        "        if AS[0] not in 'HDS':\n",
        "            ret_list.append(AS)\n",
        "\n",
        "    if len(ret_list) < 1:\n",
        "        return -1\n",
        "    for AS in ret_list:\n",
        "        cur = int(AS.strip()[1:])\n",
        "        if cur < pep[0] or cur > pep[1]:\n",
        "            return -1\n",
        "    return ret_list\n",
        "\n",
        "def valid_Protease(Protease_row, f) :\n",
        "    pep_unit = str(Protease_row[0])\n",
        "    active_site = str(Protease_row[1])\n",
        "    Protease = str(Protease_row[2])\n",
        "    \n",
        "    pep_pair = pep_unit.split('-')\n",
        "    pep_list = (int(pep_pair[0]), int(pep_pair[1]))\n",
        "    if pep_list[0] > pep_list[1] or pep_list[1] > len(Protease) or pep_list[0] < 1:\n",
        "        return False, False, False\n",
        "\n",
        "    as_list = active_site.split(',')\n",
        "    as_list = valid_AS(as_list, pep_list)\n",
        "    if as_list == -1: return False, False, False\n",
        "\n",
        "    if len(Protease) < 100: return False, False, False\n",
        "    if Protease in st : return False, False, False\n",
        "    st.add(Protease)\n",
        "    return Protease, as_list, pep_list\n",
        "\n",
        "\n",
        "for file in os.listdir('/content/iGem/Protease') :\n",
        "\n",
        "    df = pandas.read_csv(os.path.join('/content/iGem/Protease', file))\n",
        "    \n",
        "    rows = []\n",
        "    for row in df.iloc[:, 3:6].values:\n",
        "        a, b, c = valid_Protease(row, file)\n",
        "        if a == False:\n",
        "            continue\n",
        "        rows.append([a, b, c])\n",
        "    name = [file[:7] for i in range(len(rows))]\n",
        "    Sequence = Sequence + rows\n",
        "    Names_Seq = Names_Seq + name\n",
        "\n",
        "\n",
        "print('Total Preteasae Sequences: %d' % (len(Sequence)))\n"
      ],
      "execution_count": null,
      "outputs": [
        {
          "output_type": "stream",
          "name": "stdout",
          "text": [
            "Total Preteasae Sequences: 1504\n"
          ]
        }
      ]
    },
    {
      "cell_type": "code",
      "metadata": {
        "id": "J6k8M8SveTAl"
      },
      "source": [
        "Set_Sites = set(np.unique(Names_Site))\n",
        "Set_Seq = set(np.unique(Names_Seq))"
      ],
      "execution_count": null,
      "outputs": []
    },
    {
      "cell_type": "markdown",
      "metadata": {
        "id": "I6BmKxX0-Gw4"
      },
      "source": [
        "# Data Preprocess"
      ]
    },
    {
      "cell_type": "code",
      "metadata": {
        "id": "MvT0EHIH8kuP"
      },
      "source": [
        "\n",
        "dic = dict()\n",
        "\n",
        "for Protease in Sequence :\n",
        "    for AS in Protease[1] :\n",
        "        pos = int(AS[1:]) - 1\n",
        "        for j in range(Protease[2][0] - 1, Protease[2][1]) :\n",
        "            if j == pos : continue\n",
        "            key_str = Protease[0][pos] + Protease[0][j]\n",
        "            key_pos = j - pos\n",
        "            if (key_str, key_pos) not in dic :\n",
        "                dic.update({(key_str, key_pos): 1})\n",
        "            else :\n",
        "                dic[(key_str, key_pos)] += 1\n",
        "\n",
        "print(dic)"
      ],
      "execution_count": null,
      "outputs": []
    },
    {
      "cell_type": "code",
      "metadata": {
        "id": "uEaH8nE3Ankp"
      },
      "source": [
        "\n",
        "threshold = 60\n",
        "features = set()\n",
        "\n",
        "for key in dic :\n",
        "    if dic[key] > threshold :\n",
        "        features.add(key)\n",
        "        # print(key, dic[key])\n",
        "\n",
        "print(features)\n",
        "print(len(features))\n"
      ],
      "execution_count": null,
      "outputs": []
    },
    {
      "cell_type": "code",
      "metadata": {
        "id": "tGz2MjVDjoxn"
      },
      "source": [
        "def gen(features, sequence) :\n",
        "    ret = []\n",
        "    for item in features :\n",
        "        cnt = 0\n",
        "        for AS in sequence[1] :\n",
        "            pos = int(AS[1:]) - 1\n",
        "            if pos + item[1] >= len(sequence[0]) or pos + item[1] < 0 : continue\n",
        "            if sequence[0][pos] == item[0][0] and sequence[0][pos + item[1]] == item[0][1] :\n",
        "                cnt += 1\n",
        "        ret.append(cnt)\n",
        "    return np.array(ret) "
      ],
      "execution_count": null,
      "outputs": []
    },
    {
      "cell_type": "code",
      "metadata": {
        "id": "AmUo3yjEzlZ-"
      },
      "source": [
        "from sklearn import datasets\n",
        "import matplotlib.pyplot as plt\n",
        "from sklearn.svm import SVC\n",
        "\n",
        "f_seq = [gen(features, Sequence[i]) for i in range(len(Sequence))]\n"
      ],
      "execution_count": null,
      "outputs": []
    },
    {
      "cell_type": "code",
      "metadata": {
        "id": "7UyZT4270nV0"
      },
      "source": [
        "def gen_training_set() :\n",
        "\n",
        "    X, y = [], []\n",
        "\n",
        "    samples = 5\n",
        "\n",
        "    for i in range(len(Sequence)) :\n",
        "\n",
        "        if Names_Seq[i] not in Set_Seq : continue\n",
        "\n",
        "        T = [j for j in range(len(AA_Sites)) if Names_Seq[i] == Names_Site[j]]\n",
        "        F = [j for j in range(len(AA_Sites)) if Names_Seq[i] != Names_Site[j]]\n",
        "        PT = np.arange(len(T))\n",
        "        PF = np.arange(len(F))\n",
        "        np.random.shuffle(PT)\n",
        "        np.random.shuffle(PF)\n",
        "\n",
        "        take = min(len(T), len(F), samples)\n",
        "        for j in range(min(len(T), samples)) :\n",
        "            X.append(np.concatenate((f_seq[i], AA_Sites[T[PT[j]]]), axis = 0))\n",
        "            y.append(1)\n",
        "        for j in range(min(len(F), samples)) :\n",
        "            X.append(np.concatenate((f_seq[i], AA_Sites[F[PF[j]]]), axis = 0))\n",
        "            y.append(0)\n",
        "\n",
        "    X = np.array(X)\n",
        "    y = np.array(y, dtype = int)\n",
        "\n",
        "    return X, y\n"
      ],
      "execution_count": null,
      "outputs": []
    },
    {
      "cell_type": "markdown",
      "metadata": {
        "id": "IxpIp9Pt_DRM"
      },
      "source": [
        "# ML modeling"
      ]
    },
    {
      "cell_type": "code",
      "metadata": {
        "id": "-Nx50j6FKRhQ"
      },
      "source": [
        "from sklearn.metrics import accuracy_score, f1_score, confusion_matrix\n",
        "from sklearn.model_selection import train_test_split, StratifiedKFold\n",
        "import matplotlib.pyplot as plt\n",
        "from thundersvm import SVC\n",
        "import keras, tensorflow\n",
        "\n",
        "def go_svm() :\n",
        "\n",
        "    X, y = gen_training_set()\n",
        "\n",
        "    kf = StratifiedKFold(n_splits = 10, shuffle = True, random_state = 42).split(X, y)\n",
        "\n",
        "    svm = SVC()\n",
        "\n",
        "    scores = []\n",
        "    f1_scores = []\n",
        "    for k, (train_index, test_index) in enumerate(kf) :\n",
        "        svm.fit(X[train_index], y[train_index])\n",
        "        y_pred = svm.predict(X[test_index])\n",
        "        score = accuracy_score(y[test_index], y_pred)\n",
        "        f1score = f1_score(y[test_index], y_pred)\n",
        "        scores.append(score)\n",
        "        f1_scores.append(f1score)\n",
        "        print('Fold: %2d, Class dist.: %s. Acc: %.3f, f1_score: %.3f' % (k + 1, np.bincount(y[train_index]), score, f1score))\n",
        "\n",
        "    print('\\nCV accuracy: %.3f +/- %.3f' % (np.mean(scores), np.std(scores)))\n",
        "    \n",
        "    return svm\n",
        "\n"
      ],
      "execution_count": null,
      "outputs": []
    },
    {
      "cell_type": "markdown",
      "metadata": {
        "id": "-8Xk0k83_H-K"
      },
      "source": [
        "# Testing model"
      ]
    },
    {
      "cell_type": "code",
      "metadata": {
        "id": "iZP6M6h3Xnyv"
      },
      "source": [
        "from sklearn.model_selection import train_test_split, StratifiedKFold\n",
        "from sklearn.metrics import confusion_matrix, f1_score\n",
        "from sklearn.metrics import accuracy_score\n",
        "\n",
        "def test_model(model, max_examples = None) :\n",
        "\n",
        "    Proteases = np.unique(Names_Seq)\n",
        "\n",
        "    CMs = []\n",
        "    for Protease in Proteases :\n",
        "    \n",
        "        Seqs = [f_seq[i] for i in range(len(f_seq)) if Names_Seq[i] == Protease]\n",
        "    \n",
        "        print('%s: %d cases\\n' % (Protease, len(Seqs) * len(AA_Sites)))\n",
        "        y_pred, y_label = [], []\n",
        "\n",
        "        for Seq in Seqs :\n",
        "            example_len = len(AA_Sites)\n",
        "            if max_examples != None : example_len = min(example_len, max_examples)\n",
        "            X = np.array([np.concatenate((Seq, AA_Sites[i]), axis = 0) for i in range(example_len)])\n",
        "            y = np.array([(Names_Site[i] == Protease) for i in range(example_len)])\n",
        "            y_pred = np.concatenate((y_pred, model.predict(X).reshape(X.shape[0])), axis = 0)\n",
        "            y_label = np.concatenate((y_label, y), axis = 0)\n",
        "        y_pred = np.where(y_pred < 0.5, 0, 1)\n",
        "        CMs.append(confusion_matrix(y_label, y_pred, labels = [0, 1]))\n",
        "    return CMs\n"
      ],
      "execution_count": null,
      "outputs": []
    },
    {
      "cell_type": "markdown",
      "metadata": {
        "id": "wm2p3esS_L1N"
      },
      "source": [
        "# Data visualization"
      ]
    },
    {
      "cell_type": "code",
      "metadata": {
        "id": "xt7rzZxVUAQj"
      },
      "source": [
        "import matplotlib.pyplot as plt\n",
        "import seaborn as sn\n",
        "\n",
        "\n",
        "def plot_CM(arr, name) :\n",
        "\n",
        "    text_color = 'black'\n",
        "\n",
        "    fig, ax = plt.subplots(figsize=(7.5, 7.5))\n",
        "    ax.matshow(arr, cmap = plt.cm.Blues, alpha = 0.3)\n",
        "    for i in range(len(arr)):\n",
        "        for j in range(len(arr[0])):\n",
        "            ax.text(x = j, y = i,s = arr[i][j], va = 'center', ha = 'center', size = 'xx-large')\n",
        " \n",
        "    plt.ylabel('Actuals', fontsize = 18, color = text_color)\n",
        "    plt.xlabel('Predictions', fontsize = 18, color = text_color)\n",
        "    plt.title('Confusion Matrix of %s' % (name), fontsize = 18, color = text_color)\n",
        "    plt.show()\n",
        "\n"
      ],
      "execution_count": null,
      "outputs": []
    },
    {
      "cell_type": "code",
      "metadata": {
        "id": "sqVdFitrwhG1"
      },
      "source": [
        "\n",
        "def show_result(CMs, to_plot_CM = False) :\n",
        "\n",
        "    total_A, total_B = 0, 0\n",
        "    total_conf = [[0, 0], [0, 0]]\n",
        "    Proteases = np.unique(Names_Seq)\n",
        "    rk_Proteases = [Proteases[i] for i in range(len(CMs))]\n",
        "    Proteases_acc = {}\n",
        "\n",
        "    for i in range(len(CMs)) :\n",
        "        A, B = 0, 0\n",
        "        for j in range(2) :\n",
        "            A += CMs[i][j][j]\n",
        "            for k in range(2) :\n",
        "                B += CMs[i][j][k]\n",
        "                total_conf[j][k] += CMs[i][j][k]\n",
        "        total_A += A\n",
        "        total_B += B\n",
        "        Proteases_acc[Proteases[i]] = A / B\n",
        "        \n",
        "        if to_plot_CM == True : plot_CM(CMs[i], Proteases[i])\n",
        "        print('%s: acc: %.3f\\n' % (Proteases[i], A / B))\n",
        "\n",
        "    rk_Proteases = sorted(rk_Proteases, key = lambda P : Proteases_acc[P])\n",
        "    print(f'rank list of proteases: {rk_Proteases}')\n",
        "    print('total acc: %.3f\\n' % (total_A / total_B))\n",
        "    plot_CM(total_conf, 'S8 family')\n",
        "\n"
      ],
      "execution_count": null,
      "outputs": []
    },
    {
      "cell_type": "markdown",
      "metadata": {
        "id": "iBoV-ARX_Q0j"
      },
      "source": [
        "# Saving models"
      ]
    },
    {
      "cell_type": "code",
      "metadata": {
        "id": "KEEXEX40QVyT"
      },
      "source": [
        "import pandas as pd\n",
        "import numpy as np\n",
        "import joblib\n",
        "\n",
        "def save_model(model, name) :\n",
        "    joblib.dump(model, name)\n"
      ],
      "execution_count": null,
      "outputs": []
    },
    {
      "cell_type": "code",
      "metadata": {
        "id": "4iiIEJUupMOK"
      },
      "source": [
        "from google.colab import files\n",
        "\n",
        "def download(name) :\n",
        "    files.download(name)\n"
      ],
      "execution_count": null,
      "outputs": []
    },
    {
      "cell_type": "markdown",
      "metadata": {
        "id": "uiqlg3XTq-vA"
      },
      "source": [
        "# Training SVM"
      ]
    },
    {
      "cell_type": "code",
      "metadata": {
        "colab": {
          "base_uri": "https://localhost:8080/",
          "height": 1000
        },
        "id": "ZeM3JBG9qW9v",
        "outputId": "17130d7d-6c18-4995-e566-0770e9a8cf7a"
      },
      "source": [
        "\n",
        "rounds = 1\n",
        "\n",
        "svm_model = None\n",
        "\n",
        "def experiment_svm() :\n",
        "\n",
        "    for i in range(rounds) :\n",
        "        global svm_model\n",
        "        svm_model = go_svm()\n",
        "        result = test_model(svm_model)\n",
        "        show_result(result)\n",
        "        \n",
        "\n",
        "experiment_svm()\n"
      ],
      "execution_count": null,
      "outputs": [
        {
          "output_type": "stream",
          "name": "stdout",
          "text": [
            "Fold:  1, Class dist.: [6768 4283]. Acc: 0.799, f1_score: 0.662\n",
            "Fold:  2, Class dist.: [6768 4283]. Acc: 0.814, f1_score: 0.702\n",
            "Fold:  3, Class dist.: [6768 4283]. Acc: 0.800, f1_score: 0.667\n",
            "Fold:  4, Class dist.: [6768 4283]. Acc: 0.824, f1_score: 0.727\n",
            "Fold:  5, Class dist.: [6768 4283]. Acc: 0.822, f1_score: 0.716\n",
            "Fold:  6, Class dist.: [6768 4283]. Acc: 0.817, f1_score: 0.706\n",
            "Fold:  7, Class dist.: [6768 4283]. Acc: 0.795, f1_score: 0.667\n",
            "Fold:  8, Class dist.: [6768 4283]. Acc: 0.814, f1_score: 0.703\n",
            "Fold:  9, Class dist.: [6768 4283]. Acc: 0.816, f1_score: 0.708\n",
            "Fold: 10, Class dist.: [6768 4284]. Acc: 0.808, f1_score: 0.685\n",
            "\n",
            "CV accuracy: 0.811 +/- 0.010\n",
            "S08.001: 2972 cases\n",
            "\n",
            "S08.004: 32692 cases\n",
            "\n",
            "S08.007: 1486 cases\n",
            "\n",
            "S08.009: 9659 cases\n",
            "\n",
            "S08.012: 2972 cases\n",
            "\n",
            "S08.014: 61669 cases\n",
            "\n",
            "S08.019: 3715 cases\n",
            "\n",
            "S08.022: 743 cases\n",
            "\n",
            "S08.024: 14117 cases\n",
            "\n",
            "S08.027: 34921 cases\n",
            "\n",
            "S08.029: 12631 cases\n",
            "\n",
            "S08.031: 2972 cases\n",
            "\n",
            "S08.034: 8916 cases\n",
            "\n",
            "S08.037: 3715 cases\n",
            "\n",
            "S08.040: 743 cases\n",
            "\n",
            "S08.043: 2972 cases\n",
            "\n",
            "S08.047: 8173 cases\n",
            "\n",
            "S08.049: 8916 cases\n",
            "\n",
            "S08.051: 88417 cases\n",
            "\n",
            "S08.053: 8173 cases\n",
            "\n",
            "S08.056: 28234 cases\n",
            "\n",
            "S08.059: 2229 cases\n",
            "\n",
            "S08.061: 24519 cases\n",
            "\n",
            "S08.065: 1486 cases\n",
            "\n",
            "S08.070: 75786 cases\n",
            "\n",
            "S08.072: 98819 cases\n",
            "\n",
            "S08.074: 48295 cases\n",
            "\n",
            "S08.076: 57954 cases\n",
            "\n",
            "S08.079: 2229 cases\n",
            "\n",
            "S08.086: 9659 cases\n",
            "\n",
            "S08.090: 34921 cases\n",
            "\n",
            "S08.092: 95104 cases\n",
            "\n",
            "S08.095: 2229 cases\n",
            "\n",
            "S08.098: 1486 cases\n",
            "\n",
            "S08.108: 16346 cases\n",
            "\n",
            "S08.110: 52753 cases\n",
            "\n",
            "S08.114: 29720 cases\n",
            "\n",
            "S08.120: 42351 cases\n",
            "\n",
            "S08.123: 8916 cases\n",
            "\n",
            "S08.125: 28234 cases\n",
            "\n",
            "S08.129: 8916 cases\n",
            "\n",
            "S08.135: 8916 cases\n",
            "\n",
            "S08.142: 33435 cases\n",
            "\n",
            "S08.146: 3715 cases\n",
            "\n",
            "S08.149: 39379 cases\n",
            "\n",
            "S08.151: 19318 cases\n",
            "\n",
            "S08.154: 6687 cases\n",
            "\n",
            "S08.160: 20061 cases\n",
            "\n",
            "S08.A21: 5201 cases\n",
            "\n",
            "S08.001: acc: 0.937\n",
            "\n",
            "S08.004: acc: 0.986\n",
            "\n",
            "S08.007: acc: 0.956\n",
            "\n",
            "S08.009: acc: 0.954\n",
            "\n",
            "S08.012: acc: 0.978\n",
            "\n",
            "S08.014: acc: 0.986\n",
            "\n",
            "S08.019: acc: 0.869\n",
            "\n",
            "S08.022: acc: 0.962\n",
            "\n",
            "S08.024: acc: 0.962\n",
            "\n",
            "S08.027: acc: 0.997\n",
            "\n",
            "S08.029: acc: 0.968\n",
            "\n",
            "S08.031: acc: 1.000\n",
            "\n",
            "S08.034: acc: 0.958\n",
            "\n",
            "S08.037: acc: 0.959\n",
            "\n",
            "S08.040: acc: 0.952\n",
            "\n",
            "S08.043: acc: 0.969\n",
            "\n",
            "S08.047: acc: 0.995\n",
            "\n",
            "S08.049: acc: 0.985\n",
            "\n",
            "S08.051: acc: 0.966\n",
            "\n",
            "S08.053: acc: 0.964\n",
            "\n",
            "S08.056: acc: 0.967\n",
            "\n",
            "S08.059: acc: 0.985\n",
            "\n",
            "S08.061: acc: 0.960\n",
            "\n",
            "S08.065: acc: 0.972\n",
            "\n",
            "S08.070: acc: 0.753\n",
            "\n",
            "S08.072: acc: 0.953\n",
            "\n",
            "S08.074: acc: 0.862\n",
            "\n",
            "S08.076: acc: 0.841\n",
            "\n",
            "S08.079: acc: 0.978\n",
            "\n",
            "S08.086: acc: 0.969\n",
            "\n",
            "S08.090: acc: 1.000\n",
            "\n",
            "S08.092: acc: 0.951\n",
            "\n",
            "S08.095: acc: 0.974\n",
            "\n",
            "S08.098: acc: 0.958\n",
            "\n",
            "S08.108: acc: 1.000\n",
            "\n",
            "S08.110: acc: 0.982\n",
            "\n",
            "S08.114: acc: 0.999\n",
            "\n",
            "S08.120: acc: 0.960\n",
            "\n",
            "S08.123: acc: 0.982\n",
            "\n",
            "S08.125: acc: 0.971\n",
            "\n",
            "S08.129: acc: 0.973\n",
            "\n",
            "S08.135: acc: 0.955\n",
            "\n",
            "S08.142: acc: 0.970\n",
            "\n",
            "S08.146: acc: 1.000\n",
            "\n",
            "S08.149: acc: 0.963\n",
            "\n",
            "S08.151: acc: 0.935\n",
            "\n",
            "S08.154: acc: 0.992\n",
            "\n",
            "S08.160: acc: 1.000\n",
            "\n",
            "S08.A21: acc: 0.939\n",
            "\n",
            "rank list of proteases: ['S08.070', 'S08.076', 'S08.074', 'S08.019', 'S08.151', 'S08.001', 'S08.A21', 'S08.092', 'S08.040', 'S08.072', 'S08.009', 'S08.135', 'S08.007', 'S08.034', 'S08.098', 'S08.037', 'S08.120', 'S08.061', 'S08.024', 'S08.022', 'S08.149', 'S08.053', 'S08.051', 'S08.056', 'S08.029', 'S08.086', 'S08.043', 'S08.142', 'S08.125', 'S08.065', 'S08.129', 'S08.095', 'S08.079', 'S08.012', 'S08.123', 'S08.110', 'S08.059', 'S08.049', 'S08.014', 'S08.004', 'S08.154', 'S08.047', 'S08.027', 'S08.114', 'S08.031', 'S08.108', 'S08.160', 'S08.090', 'S08.146']\n",
            "total acc: 0.944\n",
            "\n"
          ]
        },
        {
          "output_type": "display_data",
          "data": {
            "image/png": "[encoded data removed]",
            "text/plain": [
              "<Figure size 540x540 with 1 Axes>"
            ]
          },
          "metadata": {
            "needs_background": "light"
          }
        }
      ]
    }
  ]
}