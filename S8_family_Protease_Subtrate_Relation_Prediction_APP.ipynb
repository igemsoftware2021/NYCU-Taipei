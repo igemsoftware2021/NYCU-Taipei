{
  "nbformat": 4,
  "nbformat_minor": 0,
  "metadata": {
    "colab": {
      "name": "S8_family_Protease_Subtrate_Relation_Prediction_APP.ipynb",
      "provenance": [],
      "collapsed_sections": []
    },
    "kernelspec": {
      "name": "python3",
      "display_name": "Python 3"
    },
    "language_info": {
      "name": "python"
    }
  },
  "cells": [
    {
      "cell_type": "markdown",
      "metadata": {
        "id": "1cW4X7vJcQe2"
      },
      "source": [
        "# Load Trained Model \n",
        "- model trained with proteases from S8 family "
      ]
    },
    {
      "cell_type": "code",
      "metadata": {
        "id": "juq4cLupixkH"
      },
      "source": [
        "import gdown\n",
        "!rm model.h5\n",
        "gdown.download('https://drive.google.com/u/0/uc?id=1DmgtXhVh1nSl-y8mfW0zNjPH6aWkUECh&export=download', 'model.h5', quiet = False)"
      ],
      "execution_count": null,
      "outputs": []
    },
    {
      "cell_type": "markdown",
      "metadata": {
        "id": "VrgI826Qph_l"
      },
      "source": [
        "load model"
      ]
    },
    {
      "cell_type": "code",
      "metadata": {
        "id": "hEdeM4PackRQ"
      },
      "source": [
        "from tensorflow import keras\n",
        "model = keras.models.load_model('./model.h5')"
      ],
      "execution_count": null,
      "outputs": []
    },
    {
      "cell_type": "markdown",
      "metadata": {
        "id": "DsLt8dOO0OTi"
      },
      "source": [
        "Make Prediction "
      ]
    },
    {
      "cell_type": "code",
      "metadata": {
        "id": "chQEr7RF0RZI"
      },
      "source": [
        "import numpy as np\n",
        "def predict(X) :\n",
        "    X = np.array(X)\n",
        "    y = model.predict(X) \n",
        "    ret = np.where(y < 0.5, 0, 1)\n",
        "    return ret"
      ],
      "execution_count": null,
      "outputs": []
    },
    {
      "cell_type": "markdown",
      "metadata": {
        "id": "7W_5b7iF5cTJ"
      },
      "source": [
        "# Checking User Data format"
      ]
    },
    {
      "cell_type": "code",
      "metadata": {
        "id": "g9-l1VC4dL-D"
      },
      "source": [
        "import re\n",
        "\n",
        "def check_Sequence(Sequence) :\n",
        "    if Sequence.isupper() : return True\n",
        "    print('Your sequence should contains only upper case latin characters only.')\n",
        "    return False\n",
        "\n",
        "def check_ActiveSite(ActiveSites, unit) :\n",
        "    ret = []\n",
        "    ActiveSite_List = ActiveSites.split(',')\n",
        "    for ActiveSite in ActiveSite_List :\n",
        "        ActiveSite = ActiveSite.strip()\n",
        "        if not re.match(r\"[A-Z][0-9]+\", ActiveSite) :\n",
        "            print('Active site \\'{}\\' does not match the format'.format(ActiveSite))\n",
        "            return False\n",
        "        else :\n",
        "            pos = int(ActiveSite[1:])\n",
        "            if pos < unit[0] or pos > unit[1] : \n",
        "                print('Position out of bound!')\n",
        "                return False\n",
        "            ret.append(ActiveSite)\n",
        "    return ret\n",
        "    \n",
        "def check_PeptidaseUnit(PeptidaseUnit, length) :\n",
        "    Unit = PeptidaseUnit.split('-')\n",
        "    if len(Unit) > 2 :\n",
        "        print('Too many numbers!')\n",
        "        return False\n",
        "    ret = (int(Unit[0]), int(Unit[1]))\n",
        "    if ret[0] > ret[1] :\n",
        "        print('{} > {}'.format(ret[0], ret[1]))\n",
        "        return False\n",
        "    return ret \n"
      ],
      "execution_count": null,
      "outputs": []
    },
    {
      "cell_type": "markdown",
      "metadata": {
        "id": "CsWaJxc1iR5r"
      },
      "source": [
        "# Input User data\n"
      ]
    },
    {
      "cell_type": "markdown",
      "metadata": {
        "id": "39aMO7bYiZ0p"
      },
      "source": [
        "Read Protease Data"
      ]
    },
    {
      "cell_type": "code",
      "metadata": {
        "id": "UtgTkBkIiCJ4"
      },
      "source": [
        "\n",
        "Sequence = None\n",
        "ActiveSite = None\n",
        "PeptidaseUnit = None\n",
        "\n",
        "while True :\n",
        "    global Sequence\n",
        "    Sequence = input(\"Plesase input pretease sequence: \")\n",
        "    if not check_Sequence(Sequence) : continue\n",
        "    break\n",
        "\n",
        "while True :\n",
        "    global PeptidaseUnit\n",
        "    PeptidaseUnit = input(\"Please input peptidase unit: \")\n",
        "    return_value = check_PeptidaseUnit(PeptidaseUnit, len(Sequence))\n",
        "    if return_value == False : continue\n",
        "    PeptidaseUnit = return_value\n",
        "    break\n",
        "\n",
        "while True :\n",
        "    global ActiveSite\n",
        "    global PeptidaseUnit\n",
        "    ActiveSites = input(\"Please input active sites: \")\n",
        "    return_value = check_ActiveSite(ActiveSites, PeptidaseUnit)\n",
        "    if return_value == False : continue\n",
        "    ActiveSite = return_value\n",
        "    break\n"
      ],
      "execution_count": null,
      "outputs": []
    },
    {
      "cell_type": "markdown",
      "metadata": {
        "id": "DosI1AiUv6TF"
      },
      "source": [
        "# Data preprocessing\n",
        "Read selected features and AAindex"
      ]
    },
    {
      "cell_type": "code",
      "metadata": {
        "id": "j3oHlw0ev9wL"
      },
      "source": [
        "!rm AADP.txt\n",
        "!rm AAidx.csv\n",
        "!wget https://raw.githubusercontent.com/mmi366127/iGem/main/AADP.txt\n",
        "!wget https://raw.githubusercontent.com/mmi366127/iGem/main/AAidx.csv\n",
        "import pandas as pd\n",
        "\n",
        "features = None\n",
        "\n",
        "with open(\"./AADP.txt\", \"r\") as f :\n",
        "    global features\n",
        "    features = eval(f.readline())\n",
        "\n",
        "\n",
        "AA_index = pd.read_csv('./AAidx.csv')\n",
        "AA_index = AA_index.dropna()\n"
      ],
      "execution_count": null,
      "outputs": []
    },
    {
      "cell_type": "markdown",
      "metadata": {
        "id": "pnxsqgfw0cpd"
      },
      "source": [
        "Generate Pair features"
      ]
    },
    {
      "cell_type": "code",
      "metadata": {
        "id": "CZjKLnXN0gHt"
      },
      "source": [
        "def transform(CleavageSite) :\n",
        "    ret = []\n",
        "    for amino_acid in CleavageSite :\n",
        "        if amino_acid not in AA_index.columns :\n",
        "            print('Unknown Amino Acid')\n",
        "        ret = np.concatenate((ret, AA_index[amino_acid].iloc[:].values), axis = 0)\n",
        "    \n",
        "    return ret\n",
        "\n",
        "def make_feature(Sequence_features, CleavegeSite) :\n",
        "    return np.concatenate((Sequence_features, transform(CleavageSite)), axis = 0)"
      ],
      "execution_count": null,
      "outputs": []
    },
    {
      "cell_type": "markdown",
      "metadata": {
        "id": "4R1l_ZjLvv-9"
      },
      "source": [
        "Generaing features from the input sequence"
      ]
    },
    {
      "cell_type": "code",
      "metadata": {
        "id": "JakcVeyZvlz3"
      },
      "source": [
        "import numpy as np\n",
        "\n",
        "def gen(features, Sequence) :\n",
        "    ret = []\n",
        "    for item in features :\n",
        "        cnt = 0\n",
        "        for AS in Sequence[1] :\n",
        "            pos = int(AS[1:]) - 1\n",
        "            if pos + item[1] >= len(Sequence[0]) or pos + item[1] < 0 : continue\n",
        "            if Sequence[0][pos] == item[0][0] and Sequence[0][pos + item[1]] == item[0][1] :\n",
        "                cnt += 1\n",
        "        ret.append(cnt)\n",
        "    print(np.array(ret).shape)\n",
        "    return np.array(ret)\n",
        "\n",
        "\n",
        "sequence_features = gen(features, [Sequence, ActiveSite, PeptidaseUnit])\n"
      ],
      "execution_count": null,
      "outputs": []
    },
    {
      "cell_type": "markdown",
      "metadata": {
        "id": "xtcRmVXxzZZR"
      },
      "source": [
        "# Input target sequence and testing\n",
        "Read target sequence"
      ]
    },
    {
      "cell_type": "code",
      "metadata": {
        "id": "dOLfxSkgzEtg"
      },
      "source": [
        "Target_Sequence = None\n",
        "\n",
        "while True :\n",
        "    global Target_Sequence\n",
        "    Target_Sequence = input('Please input target sequence: ')\n",
        "    if not check_Sequence(Target_Sequence) : continue\n",
        "    if len(Target_Sequence) < 8 : \n",
        "        print('The length of the sequence should longer than 8.')\n",
        "        continue\n",
        "    break\n"
      ],
      "execution_count": null,
      "outputs": []
    },
    {
      "cell_type": "markdown",
      "metadata": {
        "id": "w4Cxzm8GzmgD"
      },
      "source": [
        "Test the target sequence "
      ]
    },
    {
      "cell_type": "code",
      "metadata": {
        "id": "L8y4l23qzpho"
      },
      "source": [
        "flag = False\n",
        "\n",
        "for i in range(len(Target_Sequence) - 7) :\n",
        "    CleavageSite = Target_Sequence[i: i + 8]\n",
        "    X = make_feature(sequence_features, CleavageSite)\n",
        "    prediction = predict(X.reshape(1, 14478))\n",
        "    if prediction[0] :\n",
        "        global flag \n",
        "        flag = True\n",
        "        print('Find CleavegeSite: {} at position: {}'.format(CleavageSite, i))\n",
        "\n",
        "if not flag :\n",
        "    print('No cleavage site found in the given sequence.')"
      ],
      "execution_count": null,
      "outputs": []
    }
  ]
}